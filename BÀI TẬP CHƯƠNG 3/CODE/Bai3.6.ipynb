{
 "cells": [
  {
   "cell_type": "code",
   "execution_count": 1,
   "metadata": {},
   "outputs": [],
   "source": [
    "import numpy as np"
   ]
  },
  {
   "cell_type": "markdown",
   "metadata": {},
   "source": [
    "Bài 1\n"
   ]
  },
  {
   "cell_type": "code",
   "execution_count": 1,
   "metadata": {},
   "outputs": [
    {
     "ename": "NameError",
     "evalue": "name 'np' is not defined",
     "output_type": "error",
     "traceback": [
      "\u001b[1;31m---------------------------------------------------------------------------\u001b[0m",
      "\u001b[1;31mNameError\u001b[0m                                 Traceback (most recent call last)",
      "Cell \u001b[1;32mIn[1], line 1\u001b[0m\n\u001b[1;32m----> 1\u001b[0m arr\u001b[38;5;241m=\u001b[39mnp\u001b[38;5;241m.\u001b[39mones((\u001b[38;5;241m3\u001b[39m,\u001b[38;5;241m3\u001b[39m),dtype\u001b[38;5;241m=\u001b[39m\u001b[38;5;28mbool\u001b[39m)\n\u001b[0;32m      2\u001b[0m \u001b[38;5;28mprint\u001b[39m(\u001b[38;5;124m\"\u001b[39m\u001b[38;5;124mMảng arr với các giá trị True: \u001b[39m\u001b[38;5;124m\"\u001b[39m)\n\u001b[0;32m      3\u001b[0m \u001b[38;5;28mprint\u001b[39m(arr)\n",
      "\u001b[1;31mNameError\u001b[0m: name 'np' is not defined"
     ]
    }
   ],
   "source": [
    "arr=np.ones((3,3),dtype=bool)\n",
    "print(\"Mảng arr với các giá trị True: \")\n",
    "print(arr)"
   ]
  },
  {
   "cell_type": "markdown",
   "metadata": {},
   "source": [
    "Bài 2,3,4,5\n"
   ]
  },
  {
   "cell_type": "code",
   "execution_count": 2,
   "metadata": {},
   "outputs": [
    {
     "ename": "NameError",
     "evalue": "name 'np' is not defined",
     "output_type": "error",
     "traceback": [
      "\u001b[1;31m---------------------------------------------------------------------------\u001b[0m",
      "\u001b[1;31mNameError\u001b[0m                                 Traceback (most recent call last)",
      "Cell \u001b[1;32mIn[2], line 1\u001b[0m\n\u001b[1;32m----> 1\u001b[0m arr_1D\u001b[38;5;241m=\u001b[39mnp\u001b[38;5;241m.\u001b[39marray([\u001b[38;5;241m0\u001b[39m,\u001b[38;5;241m1\u001b[39m,\u001b[38;5;241m2\u001b[39m,\u001b[38;5;241m3\u001b[39m,\u001b[38;5;241m4\u001b[39m,\u001b[38;5;241m5\u001b[39m,\u001b[38;5;241m6\u001b[39m,\u001b[38;5;241m7\u001b[39m,\u001b[38;5;241m8\u001b[39m])\n\u001b[0;32m      2\u001b[0m arr_2D\u001b[38;5;241m=\u001b[39marr_1D\u001b[38;5;241m.\u001b[39mreshape(\u001b[38;5;241m3\u001b[39m,\u001b[38;5;241m3\u001b[39m)\n\u001b[0;32m      3\u001b[0m arr_2D[:,[\u001b[38;5;241m0\u001b[39m,\u001b[38;5;241m2\u001b[39m]]\u001b[38;5;241m=\u001b[39marr_2D[:,[\u001b[38;5;241m2\u001b[39m,\u001b[38;5;241m0\u001b[39m]]\n",
      "\u001b[1;31mNameError\u001b[0m: name 'np' is not defined"
     ]
    }
   ],
   "source": [
    "arr_1D=np.array([0,1,2,3,4,5,6,7,8])\n",
    "arr_2D=arr_1D.reshape(3,3)\n",
    "arr_2D[:,[0,2]]=arr_2D[:,[2,0]]\n",
    "print(\"Mảng sau khi đổi là:\")\n",
    "print(arr_2D)\n",
    "###\n",
    "arr_2D[[0,1]]=arr_2D[[1,0]]\n",
    "print(\"Mảng sau khi đổi dòng là:\")\n",
    "print(arr_2D)\n",
    "###\n",
    "arr_2D_dao_nguoc=arr_2D[::-1]\n",
    "print(\"Mảng 2D sau đảo ngược các dòng:\")\n",
    "print(arr_2D_dao_nguoc)\n",
    "###\n",
    "arr_2D_dao_nguoc_cot=arr_2D_dao_nguoc[:,::-1]\n",
    "print(\"Mảng 2D sao khi đảo ngược các cột là:\")\n",
    "print(arr_2D_dao_nguoc_cot)\n",
    "\n"
   ]
  },
  {
   "cell_type": "markdown",
   "metadata": {},
   "source": [
    "Bài 6,7"
   ]
  },
  {
   "cell_type": "code",
   "execution_count": null,
   "metadata": {},
   "outputs": [],
   "source": [
    "arr_2D_null=np.array([[1,2,3],\n",
    "                      [np.nan,5,6],\n",
    "                      [7,np.nan,9],\n",
    "                      [4,5,6]])\n",
    "gia_tri_rong=np.any(np.isnan(arr_2D_null))\n",
    "if gia_tri_rong:\n",
    "    print(\"mảng có chứa giá trị NaN\")\n",
    "else:\n",
    "    print(\"Mảng không có giá trị NaN\")    \n",
    "###\n",
    "arr_2D_null[np.isnan(arr_2D_null)]=0\n",
    "print(\"Mảng sau khi thay thế là:\")\n",
    "print(arr_2D_null)"
   ]
  }
 ],
 "metadata": {
  "kernelspec": {
   "display_name": "base",
   "language": "python",
   "name": "python3"
  },
  "language_info": {
   "codemirror_mode": {
    "name": "ipython",
    "version": 3
   },
   "file_extension": ".py",
   "mimetype": "text/x-python",
   "name": "python",
   "nbconvert_exporter": "python",
   "pygments_lexer": "ipython3",
   "version": "3.12.7"
  }
 },
 "nbformat": 4,
 "nbformat_minor": 2
}
